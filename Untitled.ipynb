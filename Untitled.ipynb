{
 "cells": [
  {
   "cell_type": "markdown",
   "id": "e8ee6575-dd45-4060-8ab3-5f8ebdf796b3",
   "metadata": {},
   "source": [
    "## barcode"
   ]
  },
  {
   "cell_type": "code",
   "execution_count": 12,
   "id": "7344b265-f9c7-4126-a6ad-1c5681fb8328",
   "metadata": {},
   "outputs": [
    {
     "name": "stdout",
     "output_type": "stream",
     "text": [
      "Total count of records where prediction is barcode and confidence  0.65: 40\n",
      "Total count of records where prediction is barcode and confidence greater than 0.65: 840\n"
     ]
    }
   ],
   "source": [
    "import pandas as pd\n",
    "\n",
    "# Load the CSV file\n",
    "csv_file_path = \"image_data.csv\"  # Replace with your CSV file path\n",
    "df = pd.read_csv(csv_file_path)\n",
    "\n",
    "\n",
    "threshold = 0.65\n",
    "predicted_tag = 'barcode'\n",
    "\n",
    "# Filter the DataFrame\n",
    "filtered_count = df[(df['prediction'] == predicted_tag) & (df['confidence'] < threshold)].shape[0]\n",
    "filtered_count_above = df[(df['prediction'] == predicted_tag) & (df['confidence'] > threshold)].shape[0]\n",
    "\n",
    "# Print the total count\n",
    "print(f\"Total count of records where prediction is {predicted_tag} and confidence  {threshold}: {filtered_count}\")\n",
    "print(f\"Total count of records where prediction is {predicted_tag} and confidence greater than {threshold}: {filtered_count_above}\")\n"
   ]
  },
  {
   "cell_type": "markdown",
   "id": "4d8fcbe5-4cd9-439b-9797-cbf4e35c1295",
   "metadata": {},
   "source": [
    "## out_of_packaging (Produce)"
   ]
  },
  {
   "cell_type": "code",
   "execution_count": 13,
   "id": "92ffce62-0ab9-4bd7-b05f-614af34cf562",
   "metadata": {},
   "outputs": [
    {
     "name": "stdout",
     "output_type": "stream",
     "text": [
      "Total count of records where prediction is out_of_packaging (Produce) and confidence less than 0.65: 14\n",
      "Total count of records where prediction is out_of_packaging (Produce) and confidence greater than 0.65: 21\n"
     ]
    }
   ],
   "source": [
    "import pandas as pd\n",
    "\n",
    "# Load the CSV file\n",
    "csv_file_path = \"image_data.csv\"  # Replace with your CSV file path\n",
    "df = pd.read_csv(csv_file_path)\n",
    "\n",
    "\n",
    "threshold = 0.65\n",
    "predicted_tag = 'out_of_packaging (Produce)'\n",
    "# Filter the DataFrame\n",
    "filtered_count = df[(df['prediction'] == predicted_tag) & (df['confidence'] < threshold)].shape[0]\n",
    "filtered_count_above = df[(df['prediction'] == predicted_tag) & (df['confidence'] > threshold)].shape[0]\n",
    "\n",
    "# Print the total count\n",
    "print(f\"Total count of records where prediction is {predicted_tag} and confidence less than {threshold}: {filtered_count}\")\n",
    "print(f\"Total count of records where prediction is {predicted_tag} and confidence greater than {threshold}: {filtered_count_above}\")"
   ]
  },
  {
   "cell_type": "markdown",
   "id": "dc0c1469-6b03-4dd3-84be-21caa75a5351",
   "metadata": {},
   "source": [
    "## nutrition_label"
   ]
  },
  {
   "cell_type": "code",
   "execution_count": 15,
   "id": "788f2802-eddf-4e1f-8236-cd4da3addbdc",
   "metadata": {},
   "outputs": [
    {
     "name": "stdout",
     "output_type": "stream",
     "text": [
      "Total count of records where prediction is nutrition_label and confidence less than 0.8: 170\n",
      "Total count of records where prediction is nutrition_label and confidence greater than 0.8: 1746\n"
     ]
    }
   ],
   "source": [
    "import pandas as pd\n",
    "\n",
    "# Load the CSV file\n",
    "csv_file_path = \"image_data.csv\"  # Replace with your CSV file path\n",
    "df = pd.read_csv(csv_file_path)\n",
    "\n",
    "\n",
    "threshold = 0.8\n",
    "predicted_tag = 'nutrition_label'\n",
    "# Filter the DataFrame\n",
    "filtered_count = df[(df['prediction'] == predicted_tag) & (df['confidence'] < threshold)].shape[0]\n",
    "filtered_count_above = df[(df['prediction'] == predicted_tag) & (df['confidence'] > threshold)].shape[0]\n",
    "\n",
    "# Print the total count\n",
    "print(f\"Total count of records where prediction is {predicted_tag} and confidence less than {threshold}: {filtered_count}\")\n",
    "print(f\"Total count of records where prediction is {predicted_tag} and confidence greater than {threshold}: {filtered_count_above}\")"
   ]
  },
  {
   "cell_type": "markdown",
   "id": "cc7514df-0ae3-4d25-9b16-39f0f4377267",
   "metadata": {},
   "source": [
    "## ingredient statement"
   ]
  },
  {
   "cell_type": "code",
   "execution_count": 23,
   "id": "a1bf82ce-a1d9-4e8f-936e-43247ad5e0aa",
   "metadata": {},
   "outputs": [
    {
     "name": "stdout",
     "output_type": "stream",
     "text": [
      "Total count of records where prediction is ingredient_statement and confidence less than 0.7: 100\n",
      "Total count of records where prediction is ingredient_statement and confidence greater than 0.7: 1646\n"
     ]
    }
   ],
   "source": [
    "import pandas as pd\n",
    "\n",
    "# Load the CSV file\n",
    "csv_file_path = \"image_data.csv\"  # Replace with your CSV file path\n",
    "df = pd.read_csv(csv_file_path)\n",
    "\n",
    "\n",
    "threshold = 0.7\n",
    "predicted_tag = 'ingredient_statement'\n",
    "# Filter the DataFrame\n",
    "filtered_count = df[(df['prediction'] == predicted_tag) & (df['confidence'] < threshold)].shape[0]\n",
    "filtered_count_above = df[(df['prediction'] == predicted_tag) & (df['confidence'] > threshold)].shape[0]\n",
    "\n",
    "# Print the total count\n",
    "print(f\"Total count of records where prediction is {predicted_tag} and confidence less than {threshold}: {filtered_count}\")\n",
    "print(f\"Total count of records where prediction is {predicted_tag} and confidence greater than {threshold}: {filtered_count_above}\")"
   ]
  },
  {
   "cell_type": "markdown",
   "id": "9b7442f5-9aa7-458d-aaf0-c551f5e5dcad",
   "metadata": {},
   "source": [
    "## open_case"
   ]
  },
  {
   "cell_type": "code",
   "execution_count": 25,
   "id": "4077b13a-af2e-4bbd-9f03-2f0270b5f8bd",
   "metadata": {
    "scrolled": true
   },
   "outputs": [
    {
     "name": "stdout",
     "output_type": "stream",
     "text": [
      "Total count of records where prediction is open_case and confidence less than 0.8: 85\n",
      "Total count of records where prediction is open_case and confidence greater than 0.8: 838\n"
     ]
    }
   ],
   "source": [
    "import pandas as pd\n",
    "\n",
    "# Load the CSV file\n",
    "csv_file_path = \"image_data.csv\"  # Replace with your CSV file path\n",
    "df = pd.read_csv(csv_file_path)\n",
    "\n",
    "\n",
    "threshold = 0.8\n",
    "predicted_tag = 'open_case'\n",
    "# Filter the DataFrame\n",
    "filtered_count = df[(df['prediction'] == predicted_tag) & (df['confidence'] < threshold)].shape[0]\n",
    "filtered_count_above = df[(df['prediction'] == predicted_tag) & (df['confidence'] > threshold)].shape[0]\n",
    "\n",
    "# Print the total count\n",
    "print(f\"Total count of records where prediction is {predicted_tag} and confidence less than {threshold}: {filtered_count}\")\n",
    "print(f\"Total count of records where prediction is {predicted_tag} and confidence greater than {threshold}: {filtered_count_above}\")"
   ]
  },
  {
   "cell_type": "markdown",
   "id": "a88aa8b4-ad73-4595-a985-9cb18b7b057d",
   "metadata": {},
   "source": [
    "## held"
   ]
  },
  {
   "cell_type": "code",
   "execution_count": 28,
   "id": "b58c843d-ebb7-42ee-bd63-a9e1aadf58ea",
   "metadata": {},
   "outputs": [
    {
     "name": "stdout",
     "output_type": "stream",
     "text": [
      "Total count of records where prediction is held and confidence less than 0.95: 209\n",
      "Total count of records where prediction is held and confidence greater than 0.95: 748\n"
     ]
    }
   ],
   "source": [
    "import pandas as pd\n",
    "\n",
    "# Load the CSV file\n",
    "csv_file_path = \"image_data.csv\"  # Replace with your CSV file path\n",
    "df = pd.read_csv(csv_file_path)\n",
    "\n",
    "\n",
    "threshold = 0.95\n",
    "predicted_tag = 'held'\n",
    "# Filter the DataFrame\n",
    "filtered_count = df[(df['prediction'] == predicted_tag) & (df['confidence'] < threshold)].shape[0]\n",
    "filtered_count_above = df[(df['prediction'] == predicted_tag) & (df['confidence'] > threshold)].shape[0]\n",
    "\n",
    "# Print the total count\n",
    "print(f\"Total count of records where prediction is {predicted_tag} and confidence less than {threshold}: {filtered_count}\")\n",
    "print(f\"Total count of records where prediction is {predicted_tag} and confidence greater than {threshold}: {filtered_count_above}\")"
   ]
  },
  {
   "cell_type": "markdown",
   "id": "d677c921-55e3-4d1c-9039-18109ed36f37",
   "metadata": {},
   "source": [
    "## inner pack"
   ]
  },
  {
   "cell_type": "code",
   "execution_count": 31,
   "id": "2a617b4d-a837-48ea-b958-27d4502299a6",
   "metadata": {},
   "outputs": [
    {
     "name": "stdout",
     "output_type": "stream",
     "text": [
      "Total count of records where prediction is inner_pack and confidence less than 0.8: 228\n",
      "Total count of records where prediction is inner_pack and confidence greater than 0.8: 522\n"
     ]
    }
   ],
   "source": [
    "import pandas as pd\n",
    "\n",
    "# Load the CSV file\n",
    "csv_file_path = \"image_data.csv\"  # Replace with your CSV file path\n",
    "df = pd.read_csv(csv_file_path)\n",
    "\n",
    "\n",
    "threshold = 0.8\n",
    "predicted_tag = 'inner_pack'\n",
    "# Filter the DataFrame\n",
    "filtered_count = df[(df['prediction'] == predicted_tag) & (df['confidence'] < threshold)].shape[0]\n",
    "filtered_count_above = df[(df['prediction'] == predicted_tag) & (df['confidence'] > threshold)].shape[0]\n",
    "\n",
    "# Print the total count\n",
    "print(f\"Total count of records where prediction is {predicted_tag} and confidence less than {threshold}: {filtered_count}\")\n",
    "print(f\"Total count of records where prediction is {predicted_tag} and confidence greater than {threshold}: {filtered_count_above}\")"
   ]
  },
  {
   "cell_type": "code",
   "execution_count": null,
   "id": "94cd9daa-9876-4f2d-8e28-058586d19cb4",
   "metadata": {},
   "outputs": [],
   "source": []
  }
 ],
 "metadata": {
  "kernelspec": {
   "display_name": "Python 3 (ipykernel)",
   "language": "python",
   "name": "python3"
  },
  "language_info": {
   "codemirror_mode": {
    "name": "ipython",
    "version": 3
   },
   "file_extension": ".py",
   "mimetype": "text/x-python",
   "name": "python",
   "nbconvert_exporter": "python",
   "pygments_lexer": "ipython3",
   "version": "3.12.7"
  }
 },
 "nbformat": 4,
 "nbformat_minor": 5
}
